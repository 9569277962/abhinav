{
 "cells": [
  {
   "cell_type": "code",
   "execution_count": 2,
   "id": "19ede035",
   "metadata": {},
   "outputs": [
    {
     "name": "stdout",
     "output_type": "stream",
     "text": [
      "Hello python\n"
     ]
    }
   ],
   "source": [
    "#Programming Assignment 1\n",
    "#answer 1\n",
    "a=\"Hello python\"\n",
    "print(a)"
   ]
  },
  {
   "cell_type": "code",
   "execution_count": 3,
   "id": "a07bea46",
   "metadata": {},
   "outputs": [
    {
     "name": "stdout",
     "output_type": "stream",
     "text": [
      "11\n"
     ]
    }
   ],
   "source": [
    "#answer 2\n",
    "a=5\n",
    "b=6\n",
    "c=a+b\n",
    "print(c)"
   ]
  },
  {
   "cell_type": "code",
   "execution_count": 4,
   "id": "00474cc4",
   "metadata": {},
   "outputs": [
    {
     "name": "stdout",
     "output_type": "stream",
     "text": [
      "5.0\n"
     ]
    }
   ],
   "source": [
    "#answer2\n",
    "a=10\n",
    "b=2\n",
    "c=a/b\n",
    "print(c)"
   ]
  },
  {
   "cell_type": "code",
   "execution_count": 9,
   "id": "1735586e",
   "metadata": {},
   "outputs": [
    {
     "name": "stdout",
     "output_type": "stream",
     "text": [
      "enter the base of a trangle25\n",
      "enter the height of a Trangle5\n",
      "the area of Trangle 25.0 and 5.0 = 62.5\n"
     ]
    }
   ],
   "source": [
    "#answer 3\n",
    "base=float(input(\"enter the base of a trangle\"))\n",
    "height=float(input(\"enter the height of a Trangle\"))\n",
    "area=base*height/2\n",
    "print(\"the area of Trangle\",base,\"and\" ,height,\"=\", area)"
   ]
  },
  {
   "cell_type": "code",
   "execution_count": 10,
   "id": "8d3712df",
   "metadata": {},
   "outputs": [
    {
     "name": "stdout",
     "output_type": "stream",
     "text": [
      "value of x: 45\n",
      "value of y: 50\n"
     ]
    }
   ],
   "source": [
    "#answer4\n",
    "x=50\n",
    "y=45\n",
    "x,y=y,x\n",
    "print(\"value of x:\",x)\n",
    "print(\"value of y:\",y)"
   ]
  },
  {
   "cell_type": "code",
   "execution_count": 20,
   "id": "37b731cd",
   "metadata": {},
   "outputs": [
    {
     "name": "stdout",
     "output_type": "stream",
     "text": [
      "10\n"
     ]
    }
   ],
   "source": [
    "        "
   ]
  },
  {
   "cell_type": "code",
   "execution_count": 25,
   "id": "b10a3176",
   "metadata": {},
   "outputs": [
    {
     "name": "stdout",
     "output_type": "stream",
     "text": [
      "1\n",
      "2\n",
      "3\n",
      "4\n",
      "5\n",
      "6\n",
      "7\n",
      "8\n",
      "9\n"
     ]
    }
   ],
   "source": [
    "answer 5\n",
    "a=10\n",
    "b=1\n",
    "while b<a:\n",
    "    print(b)\n",
    "    b =b+1\n",
    "    if b==10:\n",
    "        break\n",
    "    "
   ]
  }
 ],
 "metadata": {
  "kernelspec": {
   "display_name": "Python 3 (ipykernel)",
   "language": "python",
   "name": "python3"
  },
  "language_info": {
   "codemirror_mode": {
    "name": "ipython",
    "version": 3
   },
   "file_extension": ".py",
   "mimetype": "text/x-python",
   "name": "python",
   "nbconvert_exporter": "python",
   "pygments_lexer": "ipython3",
   "version": "3.9.7"
  }
 },
 "nbformat": 4,
 "nbformat_minor": 5
}
